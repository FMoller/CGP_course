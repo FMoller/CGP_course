{
 "cells": [
  {
   "cell_type": "markdown",
   "id": "young-emerald",
   "metadata": {},
   "source": [
    "# Uma pequena introdução ao python\n",
    "\n",
    "\n",
    "O python é uma linguagem interpretada, ou seja, ao invés de gerar um executável, um programa, chamado de interpretador lê o script em tempo real e executa cada instrução a seu devido tempo. Isso gera uma vantagem em relação à portabilidade, já que o mesmo script, em tese pode ser lido por máquinas diferentes que tenham seu interpretador python. \n",
    "\n",
    "O python também é uma linguagem de alto-nível, ou seja, aceita um grau de abstração maior e é mais amigável ao programador. \n",
    "Essas vantagens obviamente não são isentas de sacrifícios, como por exemplo maior necessidade de recursos de tempo e memória. A linguagem também é conhecida por ter seus loops lentos o que, ironicamente, a torna menos atraente para a técnica abordada neste curso.\n",
    "\n",
    "Por razões didáticas, usaremos o python mesmo assim, além disso os problemas que serão tratados aqui são pequenos e portanto as deficiências do python não se tornarão evidentes. Dito isso, vamos começar este minicurso.\n",
    "\n",
    "## Importando outros módulos\n",
    "Os scripts do python são escritos em móduios e sua extensão é .py . É possível importar funções, classes e variáveis de outros módulos usando o comando *import*. No exemplo abaixo estamos importando o módulo numpy, um módulo importante que facilita muito o trabalho com matrizes e arrays. "
   ]
  },
  {
   "cell_type": "code",
   "execution_count": 2,
   "id": "environmental-attachment",
   "metadata": {},
   "outputs": [
    {
     "name": "stdout",
     "output_type": "stream",
     "text": [
      "[[0 1 0]\n",
      " [0 0 1]\n",
      " [0 0 1]]\n"
     ]
    }
   ],
   "source": [
    "import numpy as np\n",
    "\n",
    "test_array =  np.array([\n",
    "    [0,1,0],\n",
    "    [0,0,1],\n",
    "    [0,0,1]\n",
    "])\n",
    "\n",
    "print(test_array)"
   ]
  },
  {
   "cell_type": "markdown",
   "id": "centered-temperature",
   "metadata": {},
   "source": [
    "No trecho acima importamos o módulo numpy e usamos a palavra chave *as* para dizer que iremos nos referir à esse módulo como *np*, ao invés de usar seu nome completo. \n",
    "\n",
    "Em seguida criamos uma estrutura do tipo array, que é própria do módulo numpy e chamamos tal estrutura de \"test_array\". Observe que antes da classe array temos o prefixo *np.*, ou seja, estamos dizendo para o interpretador python que ele vai encontrar as informações da classe array dentro do módulo numpy.\n",
    "\n",
    "Por fim, nós mandamos imprimir a array que criamos, usando a função *print*"
   ]
  },
  {
   "cell_type": "markdown",
   "id": "nonprofit-counter",
   "metadata": {},
   "source": [
    "## Variáveis e estruturas de dados\n",
    "\n",
    "O python possui diversos tipos de variávies, como inteiras, string, de ponto flutuante entre outras. Para ele, elas são como objetos e o interpretador aloca a memória de acordo com a necessidade, portanto não é necessário declarar o tipo da variável, alocar memória manualmente para estruturas de dados, ou mesmo criar um ponteiro para o início das mesmas. Variáveis também podem mudar de tipo durante a execução de um programa sem grande problema, tal qual no exemplo abaixo:"
   ]
  },
  {
   "cell_type": "code",
   "execution_count": 3,
   "id": "comparative-tooth",
   "metadata": {},
   "outputs": [
    {
     "name": "stdout",
     "output_type": "stream",
     "text": [
      "<class 'int'>\n",
      "<class 'float'>\n",
      "<class 'str'>\n"
     ]
    }
   ],
   "source": [
    "teste_var = 10\n",
    "print(type(teste_var))\n",
    "\n",
    "teste_var = 10.5\n",
    "print(type(teste_var))\n",
    "\n",
    "teste_var = '10.5'\n",
    "print(type(teste_var))"
   ]
  },
  {
   "cell_type": "markdown",
   "id": "prospective-course",
   "metadata": {},
   "source": [
    "Usando a função *type* pudemos verificar que a variável teste_var mudou entre os tipos inteiro (int), ponto flutuante (float) e string (str). \n",
    "\n",
    "Variáveis podem ser nomeadas usando qualquer usando qualquer letra, seja em caixa alta, ou baixa, digito, ou o caracter \" _ \". Elas também não podem começar com um digito. Todavia, o pep8, a convenção de estilo do python, estipula que se deve usar o método letras minúsculas e palavras separadas por \" _ \" para nomear variáveis. \n",
    "\n",
    "O python não faz distinção entre as variáveis anteriores e estruturas de dados como listas, conjuntos e dicionários. Para a CGP, listas e dicionários são estruturas interessantes e a seguir temos o exemplo de ambos:"
   ]
  },
  {
   "cell_type": "code",
   "execution_count": 4,
   "id": "narrative-vehicle",
   "metadata": {},
   "outputs": [],
   "source": [
    "exemplo_lista = [1,2,10,2,15,20]\n",
    "exemplo_lista2 = ['a','b','teste']\n",
    "exemplo_lista3 = [10,'olá',15.3,[1,5,10,21]]\n",
    "\n",
    "exemplo_dic = {'verde':'limão','vermelho':'maçã'}\n",
    "exemplo_dic2 = {0:'wire', 1:'not', 2:'and'}"
   ]
  },
  {
   "cell_type": "markdown",
   "id": "unlike-confirmation",
   "metadata": {},
   "source": [
    "Não cabe aqui passar as definição clássica de lista, o que é interessante dizer é que no python as listas tem seus índices associados a uma array. Ou seja, enquanto em uma lista simples a complexidade para acessar um determinado indice i é O(i), no python vai ser O(1). Cada elemento também pode ser de qualquer outra classe do python, você pode ter listas contendo inteiros e ao mesmo tempo float, stings, outras listas e até mesmo funções.\n",
    "\n",
    "Os elementos em uma lista são numerados de 0 a n-1 sendo n a quantidade de elementos na lista. Para acessar um determinado elemento da lista basta usar o nome dela e colocar o índice do elemento entre chaves. É possível usar índices negativos para acessar elementos à partir do final.\n",
    "\n",
    "É possível selecionar um setor de uma lista usando o \":\".\n",
    "\n"
   ]
  },
  {
   "cell_type": "code",
   "execution_count": 5,
   "id": "competent-worst",
   "metadata": {},
   "outputs": [
    {
     "name": "stdout",
     "output_type": "stream",
     "text": [
      "10\n",
      "teste\n",
      "[1, 5, 10, 21]\n",
      "1\n",
      "t\n",
      "[1, 2, 10]\n",
      "[2, 15, 20]\n",
      "[2, 10, 2, 15]\n"
     ]
    }
   ],
   "source": [
    "#elementos individuais\n",
    "print(exemplo_lista[2])\n",
    "print(exemplo_lista2[2])\n",
    "#indices negativos\n",
    "print(exemplo_lista3[-1])\n",
    "#listas em listas\n",
    "print(exemplo_lista3[-1][0])\n",
    "#a mesma lógica funciona para strings\n",
    "print(exemplo_lista2[2][3])\n",
    "#Selecionando setores\n",
    "print(exemplo_lista[:3]) #do inicio até, porém não incluindo, o elemento de indice 3\n",
    "print(exemplo_lista[3:]) #do elementos de índice 3 até o final\n",
    "print(exemplo_lista[1:-1]) #do primeiro elemento até o penultimo"
   ]
  },
  {
   "cell_type": "markdown",
   "id": "after-problem",
   "metadata": {},
   "source": [
    "É possível substituir elementos em uma lista: basta acessar o elemento em questão e associar um novo valor. Isso vale para trechos também, porém é importante que as dimensões dos valores sejam as mesmas, ou seja, um trecho de 5 elementos tem que ser substituido por outros 5 elementos.\n",
    "\n",
    "Para adicionar novos valores na lista, usualmente se usa o método append. Para remover basta usar o método remove. Em ambos você escreve o nome da lista em questão seguidos por .nome_do_método(). O método remove vai remover a primeira ocorrência do valor na lista, o método append vai inserir o valor no final da lista."
   ]
  },
  {
   "cell_type": "code",
   "execution_count": 6,
   "id": "biological-reproduction",
   "metadata": {},
   "outputs": [
    {
     "name": "stdout",
     "output_type": "stream",
     "text": [
      "[1, 2, 3, 2, 5, 2]\n",
      "[1, 3, 2, 5, 2]\n",
      "[1, -3, 2, 5, 2, 7]\n"
     ]
    }
   ],
   "source": [
    "n_lista = [] #criamos uma lista vazia\n",
    "n_lista.append(1)\n",
    "n_lista.append(2)\n",
    "n_lista.append(3)\n",
    "n_lista.append(2)\n",
    "n_lista.append(5)\n",
    "n_lista.append(2) #inserimos, nessa ordem: 1,2,3,2,5,2\n",
    "print(n_lista)\n",
    "n_lista.remove(2) #vai remover o primeiro 2 de n_lista, ou seja o entre o 1 e 3\n",
    "print(n_lista)\n",
    "n_lista[1]=-3 #substitui o valor na posição 1 por -3\n",
    "n_lista.append(7) #vai inserir um 7 no final da lista, resultando em 1,-3,2,5,2,7\n",
    "print(n_lista)"
   ]
  },
  {
   "cell_type": "markdown",
   "id": "italian-sacramento",
   "metadata": {},
   "source": [
    "Os dicionários são estruturas contendo dois itens, as chaves (dict.keys) e os valores (dict.values). As chaves são os \"índices\" dos dicionários e cada chave deve ser única e cada qual tem um valor associado. Tal qual a lista, os valores podem ser de qualquer tipo, inclusive outros dicionários.\n",
    "\n",
    "O método keys mostra as chaves do dicionário enquanto o método values mosta uma lista com todos os valores.\n",
    "\n",
    "Para selecionar um valor, basta colocar a chave do valor entre [] após o nome do dicionário.\n",
    "\n",
    "Para modificar o valor de uma chave é só usar a operação de atribuição para a mesma.\n",
    "\n",
    "Para criar um novo par chave:valor, basta usar a operação de atribuição usando a nova chave e o novo valor."
   ]
  },
  {
   "cell_type": "code",
   "execution_count": 7,
   "id": "emerging-taxation",
   "metadata": {},
   "outputs": [
    {
     "name": "stdout",
     "output_type": "stream",
     "text": [
      "dict_keys(['verde', 'vermelho'])\n",
      "dict_values(['limão', 'maçã'])\n",
      "limão\n",
      "['limão', 'abacate']\n",
      "dict_keys(['verde', 'vermelho', 'roxo'])\n",
      "dict_values([['limão', 'abacate'], 'maçã', ['uva', 'ameixa']])\n"
     ]
    }
   ],
   "source": [
    "print(exemplo_dic.keys()) #as chaves do exemplo_dic\n",
    "print(exemplo_dic.values()) #os valores do exemplo_dic\n",
    "print(exemplo_dic['verde']) #O valor atribuido à chave verde\n",
    "exemplo_dic['verde'] = ['limão','abacate'] #substituindo o antigo valor da chave verde por uma lista com duas frutas verdes\n",
    "print(exemplo_dic['verde'])\n",
    "exemplo_dic['roxo'] = ['uva','ameixa'] #criando um novo conjunto chave:valor\n",
    "print(exemplo_dic.keys())\n",
    "print(exemplo_dic.values())"
   ]
  },
  {
   "cell_type": "markdown",
   "id": "european-gathering",
   "metadata": {},
   "source": [
    "As variáveis que você atribui à listas e dicionários na verdade armazenam um ponteiro para essas estruturas. Por isso fazer uma cópia das mesmas não é uma tarefa simples e requer algum cuidado."
   ]
  },
  {
   "cell_type": "code",
   "execution_count": 8,
   "id": "quiet-variation",
   "metadata": {},
   "outputs": [
    {
     "name": "stdout",
     "output_type": "stream",
     "text": [
      "[1, -3, 2, 5, 2, 7]\n",
      "[1, -3, 2, 5, 2, 7, 2]\n"
     ]
    }
   ],
   "source": [
    "c_lista = n_lista\n",
    "print(n_lista)\n",
    "c_lista.append(2)\n",
    "print(n_lista)"
   ]
  },
  {
   "cell_type": "markdown",
   "id": "cloudy-fashion",
   "metadata": {},
   "source": [
    "No exemplo anterior atribuimos o que estava armazenado em n_lista (um ponteiro para uma lista) para c_lista. Ao modificarmos c_lista, acabamos modificando n_lista também. Para evitar que isso aconteça, temos que usar o método copy()."
   ]
  },
  {
   "cell_type": "code",
   "execution_count": 9,
   "id": "electrical-secretary",
   "metadata": {},
   "outputs": [
    {
     "name": "stdout",
     "output_type": "stream",
     "text": [
      "[1, -3, 2, 5, 2, 7, 2]\n",
      "[1, -3, 2, 5, 2, 7, 2]\n",
      "[1, -3, 2, 5, 2, 7, 2, 9]\n"
     ]
    }
   ],
   "source": [
    "c_lista = n_lista.copy()\n",
    "print(n_lista)\n",
    "c_lista.append(9)\n",
    "print(n_lista)\n",
    "print(c_lista)"
   ]
  },
  {
   "cell_type": "markdown",
   "id": "transsexual-cross",
   "metadata": {},
   "source": [
    "O método copy copia os valores da lista, dicionário para outro setor da memória e cria um novo ponteiro para essa região. Note que isso só afeta a lista, ou o dicionário em questão! \n",
    "\n",
    "Por exemplo, se temos uma lista:\n",
    "a = \\[ 1,2 \\[ 'a','b','c'\\], 12, 'c'\\]\n",
    "\n",
    "O elemento 2 é na verdade um ponteiro para uma lista e portanto o método a.copy() copiara esse ponteiro para o elemento 2 da nova lista b. Uma alteração no elemento 2 de b, como um todo, não causará alteração em a. Mas uma modificação em nível lista do elemento 2 de b, causará uma alteração em a. O exemplo abaixo ilustra isso melhor:"
   ]
  },
  {
   "cell_type": "code",
   "execution_count": 10,
   "id": "minor-updating",
   "metadata": {},
   "outputs": [
    {
     "name": "stdout",
     "output_type": "stream",
     "text": [
      "lista b: [1, 2, 10, 12, 'c']\n",
      "lista a: [1, 2, ['a', 'b', 'c'], 12, 'c']\n",
      "lista c: [1, 2, ['a', 'b', 'c', 'd'], 12, 'c']\n",
      "lista a: [1, 2, ['a', 'b', 'c', 'd'], 12, 'c']\n"
     ]
    }
   ],
   "source": [
    "a = [1,2,['a','b','c'],12,'c']\n",
    "b = a.copy()\n",
    "c = a.copy()\n",
    "b[2] = 10\n",
    "print('lista b:',b)\n",
    "print('lista a:',a)\n",
    "c[2].append('d')\n",
    "print('lista c:',c)\n",
    "print('lista a:',a)\n"
   ]
  },
  {
   "cell_type": "markdown",
   "id": "temporal-peoples",
   "metadata": {},
   "source": [
    "Testes lógicos e desvios condicionais são feitos com as palavras if, elif e else. O if é o teste principal, o elif é um novo teste caso o teste anterior tenha dado falso e o else é caso todos os testes anteriores tenham dado falso. \n",
    "\n",
    "O python não usa parenteses ou chaves para limitar seus blocos de instrução, é possível escrever if, seguidos do teste lógico seguido de : para indicar o teste. As instruções dentro do bloco referente à esse if são reconhecidas por uma indentação, no caso 4 espaços à frente em relação à coluna do bloco."
   ]
  },
  {
   "cell_type": "code",
   "execution_count": 11,
   "id": "binary-advice",
   "metadata": {},
   "outputs": [
    {
     "name": "stdout",
     "output_type": "stream",
     "text": [
      "Experimento de design\n",
      "2 não está em Delta\n"
     ]
    }
   ],
   "source": [
    "var_alpha = 10\n",
    "var_beta = 'C17_design'\n",
    "var_delta = [1,.9,.2,.8,.5]\n",
    "\n",
    "if var_alpha > 10:\n",
    "    print('alpha maior que 10')\n",
    "\n",
    "if '_design' in var_beta:\n",
    "    print('Experimento de design')\n",
    "    budget = 3000\n",
    "else:\n",
    "    print('Experimento de otimização')\n",
    "    budget = 60000\n",
    "\n",
    "if 2 in var_delta:\n",
    "    print('2 está em Delta')\n",
    "elif np.max(var_delta) > 2:\n",
    "    print('delta extrapolou 2')\n",
    "elif np.max(var_delta) > 1.8:\n",
    "    print('delta próximo de 2')\n",
    "else:\n",
    "    print('2 não está em Delta')"
   ]
  },
  {
   "cell_type": "markdown",
   "id": "resistant-absorption",
   "metadata": {},
   "source": [
    "A mesma lógica segue para o ciclo while, onde você tem um teste lógico e o ciclo é executado enquanto o teste for verdadeiro."
   ]
  },
  {
   "cell_type": "code",
   "execution_count": 12,
   "id": "legislative-imagination",
   "metadata": {},
   "outputs": [
    {
     "name": "stdout",
     "output_type": "stream",
     "text": [
      "5\n"
     ]
    }
   ],
   "source": [
    "value = 0\n",
    "while value < 3:\n",
    "    value = np.random.randint(6)\n",
    "    print(value)"
   ]
  },
  {
   "cell_type": "markdown",
   "id": "three-slide",
   "metadata": {},
   "source": [
    "No python, o ciclo for pecorre um objeto iterável. Para se ter um ciclo incremental ou decremental igual ao normalmente usado em C, pode-se usar a função range:"
   ]
  },
  {
   "cell_type": "code",
   "execution_count": 13,
   "id": "extreme-reliance",
   "metadata": {},
   "outputs": [
    {
     "name": "stdout",
     "output_type": "stream",
     "text": [
      "0\n",
      "1\n",
      "2\n",
      "3\n",
      "4\n",
      "5\n",
      "6\n",
      "7\n",
      "8\n",
      "9\n"
     ]
    }
   ],
   "source": [
    "for i in range(10):\n",
    "    print(i)"
   ]
  },
  {
   "cell_type": "markdown",
   "id": "sharp-complexity",
   "metadata": {},
   "source": [
    "Para funções, usa-se a palavra chave def. Como já foi dito, não há necessidade de se declarar os tipos de variáveis no escopo.\n",
    "\n",
    "Algumas variáveis podem ser opcionais e elas vão no final do escopo da função, com seus respectivos valores padrões.\n",
    "\n",
    "A palavra chave return informa os valores de saída da função."
   ]
  },
  {
   "cell_type": "code",
   "execution_count": 16,
   "id": "alike-invitation",
   "metadata": {},
   "outputs": [
    {
     "name": "stdout",
     "output_type": "stream",
     "text": [
      "[0.0, 0.08, 0.12, 0.4, 0.44, 0.48, 0.6, 0.64, 0.72, 1.0]\n",
      "[0.038461538461538464, 0.11538461538461539, 0.15384615384615385, 0.4230769230769231, 0.46153846153846156, 0.5, 0.6153846153846154, 0.6538461538461539, 0.7307692307692307, 1.0]\n"
     ]
    }
   ],
   "source": [
    "def normalize(values, o_top = False):\n",
    "    res = []\n",
    "    \n",
    "    mx_val = np.max(values)\n",
    "    if o_top:\n",
    "        mn_val = 0\n",
    "    else:\n",
    "        mn_val = np.min(values)\n",
    "    delta = mx_val- mn_val\n",
    "    for i in values:\n",
    "        res.append((i - mn_val)/delta)\n",
    "    return res\n",
    "\n",
    "list_a = [1,3,4,11,12,13,16,17,19,26]\n",
    "\n",
    "print(normalize(list_a))\n",
    "print(normalize(list_a, True))"
   ]
  },
  {
   "cell_type": "code",
   "execution_count": null,
   "id": "authorized-territory",
   "metadata": {},
   "outputs": [],
   "source": []
  }
 ],
 "metadata": {
  "kernelspec": {
   "display_name": "Python 3",
   "language": "python",
   "name": "python3"
  },
  "language_info": {
   "codemirror_mode": {
    "name": "ipython",
    "version": 3
   },
   "file_extension": ".py",
   "mimetype": "text/x-python",
   "name": "python",
   "nbconvert_exporter": "python",
   "pygments_lexer": "ipython3",
   "version": "3.7.10"
  }
 },
 "nbformat": 4,
 "nbformat_minor": 5
}
