{
 "cells": [
  {
   "cell_type": "markdown",
   "id": "young-emerald",
   "metadata": {},
   "source": [
    "# Uma pequena introdução ao python\n",
    "\n",
    "\n",
    "O python é uma linguagem interpretada, ou seja, ao invés de gerar um executável, um programa, chamado de interpretador lê o script em tempo real e executa cada instrução a seu devido tempo. Isso gera uma vantagem em relação à portabilidade, já que o mesmo script, em tese pode ser lido por máquinas diferentes que tenham seu interpretador python. \n",
    "\n",
    "O python também é uma linguagem de alto-nível, ou seja, aceita um grau de abstração maior e é mais amigável ao programador. \n",
    "Essas vantagens obviamente não são isentas de sacrifícios, como por exemplo maior necessidade de recursos de tempo e memória. A linguagem também é conhecida por ter seus loops lentos o que, ironicamente, a torna menos atraente para a técnica abordada neste curso.\n",
    "\n",
    "Por razões didáticas, usaremos o python mesmo assim, além disso os problemas que serão tratados aqui são pequenos e portanto as deficiências do python não se tornarão evidentes. Dito isso, vamos começar este minicurso.\n",
    "\n",
    "## Importando outros módulos\n",
    "Os scripts do python são escritos em móduios e sua extensão é .py . É possível importar funções, classes e variáveis de outros módulos usando o comando *import*. No exemplo abaixo estamos importando o módulo numpy, um módulo importante que facilita muito o trabalho com matrizes e arrays. "
   ]
  },
  {
   "cell_type": "code",
   "execution_count": 3,
   "id": "environmental-attachment",
   "metadata": {},
   "outputs": [
    {
     "ename": "ModuleNotFoundError",
     "evalue": "No module named 'numpy'",
     "output_type": "error",
     "traceback": [
      "\u001b[0;31m---------------------------------------------------------------------------\u001b[0m",
      "\u001b[0;31mModuleNotFoundError\u001b[0m                       Traceback (most recent call last)",
      "\u001b[0;32m<ipython-input-3-9e470a4f79fd>\u001b[0m in \u001b[0;36m<module>\u001b[0;34m\u001b[0m\n\u001b[0;32m----> 1\u001b[0;31m \u001b[0;32mimport\u001b[0m \u001b[0mnumpy\u001b[0m \u001b[0;32mas\u001b[0m \u001b[0mnp\u001b[0m\u001b[0;34m\u001b[0m\u001b[0;34m\u001b[0m\u001b[0m\n\u001b[0m\u001b[1;32m      2\u001b[0m \u001b[0;34m\u001b[0m\u001b[0m\n\u001b[1;32m      3\u001b[0m test_array =  np.array([\n\u001b[1;32m      4\u001b[0m     \u001b[0;34m[\u001b[0m\u001b[0;36m0\u001b[0m\u001b[0;34m,\u001b[0m\u001b[0;36m1\u001b[0m\u001b[0;34m,\u001b[0m\u001b[0;36m0\u001b[0m\u001b[0;34m]\u001b[0m\u001b[0;34m,\u001b[0m\u001b[0;34m\u001b[0m\u001b[0;34m\u001b[0m\u001b[0m\n\u001b[1;32m      5\u001b[0m     \u001b[0;34m[\u001b[0m\u001b[0;36m0\u001b[0m\u001b[0;34m,\u001b[0m\u001b[0;36m0\u001b[0m\u001b[0;34m,\u001b[0m\u001b[0;36m1\u001b[0m\u001b[0;34m]\u001b[0m\u001b[0;34m,\u001b[0m\u001b[0;34m\u001b[0m\u001b[0;34m\u001b[0m\u001b[0m\n",
      "\u001b[0;31mModuleNotFoundError\u001b[0m: No module named 'numpy'"
     ]
    }
   ],
   "source": [
    "import numpy as np\n",
    "\n",
    "test_array =  np.array([\n",
    "    [0,1,0],\n",
    "    [0,0,1],\n",
    "    [0,0,1]\n",
    "])\n",
    "\n",
    "print(test_array)"
   ]
  },
  {
   "cell_type": "code",
   "execution_count": null,
   "id": "specific-chart",
   "metadata": {},
   "outputs": [],
   "source": []
  }
 ],
 "metadata": {
  "kernelspec": {
   "display_name": "Python 3",
   "language": "python",
   "name": "python3"
  },
  "language_info": {
   "codemirror_mode": {
    "name": "ipython",
    "version": 3
   },
   "file_extension": ".py",
   "mimetype": "text/x-python",
   "name": "python",
   "nbconvert_exporter": "python",
   "pygments_lexer": "ipython3",
   "version": "3.7.10"
  }
 },
 "nbformat": 4,
 "nbformat_minor": 5
}
