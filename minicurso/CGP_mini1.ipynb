{
 "cells": [
  {
   "cell_type": "markdown",
   "id": "young-emerald",
   "metadata": {},
   "source": [
    "# Uma pequena introdução ao python\n",
    "\n",
    "\n",
    "O python é uma linguagem interpretada, ou seja, ao invés de gerar um executável, um programa, chamado de interpretador lê o script em tempo real e executa cada instrução a seu devido tempo. Isso gera uma vantagem em relação à portabilidade, já que o mesmo script, em tese pode ser lido por máquinas diferentes que tenham seu interpretador python. \n",
    "\n",
    "O python também é uma linguagem de alto-nível, ou seja, aceita um grau de abstração maior e é mais amigável ao programador. \n",
    "Essas vantagens obviamente não são isentas de sacrifícios, como por exemplo maior necessidade de recursos de tempo e memória. A linguagem também é conhecida por ter seus loops lentos o que, ironicamente, a torna menos atraente para a técnica abordada neste curso.\n",
    "\n",
    "Por razões didáticas, usaremos o python mesmo assim, além disso os problemas que serão tratados aqui são pequenos e portanto as deficiências do python não se tornarão evidentes. Dito isso, vamos começar este minicurso.\n",
    "\n",
    "## Importando outros módulos\n",
    "Os scripts do python são escritos em móduios e sua extensão é .py . É possível importar funções, classes e variáveis de outros módulos usando o comando *import*. No exemplo abaixo estamos importando o módulo numpy, um módulo importante que facilita muito o trabalho com matrizes e arrays. "
   ]
  },
  {
   "cell_type": "code",
   "execution_count": 1,
   "id": "environmental-attachment",
   "metadata": {},
   "outputs": [
    {
     "name": "stdout",
     "output_type": "stream",
     "text": [
      "[[0 1 0]\n",
      " [0 0 1]\n",
      " [0 0 1]]\n"
     ]
    }
   ],
   "source": [
    "import numpy as np\n",
    "\n",
    "test_array =  np.array([\n",
    "    [0,1,0],\n",
    "    [0,0,1],\n",
    "    [0,0,1]\n",
    "])\n",
    "\n",
    "print(test_array)"
   ]
  },
  {
   "cell_type": "markdown",
   "id": "centered-temperature",
   "metadata": {},
   "source": [
    "No trecho acima importamos o módulo numpy e usamos a palavra chave *as* para dizer que iremos nos referir à esse módulo como *np*, ao invés de usar seu nome completo. \n",
    "\n",
    "Em seguida criamos uma estrutura do tipo array, que é própria do módulo numpy e chamamos tal estrutura de \"test_array\". Observe que antes da classe array temos o prefixo *np.*, ou seja, estamos dizendo para o interpretador python que ele vai encontrar as informações da classe array dentro do módulo numpy.\n",
    "\n",
    "Por fim, nós mandamos imprimir a array que criamos, usando a função *print*"
   ]
  },
  {
   "cell_type": "markdown",
   "id": "nonprofit-counter",
   "metadata": {},
   "source": [
    "## Variáveis e estruturas de dados\n",
    "\n",
    "O python possui diversos tipos de variávies, como inteiras, string, de ponto flutuante entre outras. Para ele, elas são como objetos e o interpretador aloca a memória de acordo com a necessidade, portanto não é necessário declarar o tipo da variável, alocar memória manualmente para estruturas de dados, ou mesmo criar um ponteiro para o início das mesmas. Variáveis também podem mudar de tipo durante a execução de um programa sem grande problema, tal qual no exemplo abaixo:"
   ]
  },
  {
   "cell_type": "code",
   "execution_count": 2,
   "id": "comparative-tooth",
   "metadata": {},
   "outputs": [
    {
     "name": "stdout",
     "output_type": "stream",
     "text": [
      "<class 'int'>\n",
      "<class 'float'>\n",
      "<class 'str'>\n"
     ]
    }
   ],
   "source": [
    "teste_var = 10\n",
    "print(type(teste_var))\n",
    "\n",
    "teste_var = 10.5\n",
    "print(type(teste_var))\n",
    "\n",
    "teste_var = '10.5'\n",
    "print(type(teste_var))"
   ]
  },
  {
   "cell_type": "markdown",
   "id": "prospective-course",
   "metadata": {},
   "source": [
    "Usando a função *type* pudemos verificar que a variável teste_var mudou entre os tipos inteiro (int), ponto flutuante (float) e string (str). \n",
    "\n",
    "Variáveis podem ser nomeadas usando qualquer usando qualquer letra, seja em caixa alta, ou baixa, digito, ou o caracter \" _ \". Elas também não podem começar com um digito. Todavia, o pep8, a convenção de estilo do python, estipula que se deve usar o método letras minúsculas e palavras separadas por \" _ \" para nomear variáveis. \n",
    "\n",
    "O python não faz distinção entre as variáveis anteriores e estruturas de dados como listas, conjuntos e dicionários. Para a CGP, listas e dicionários são estruturas interessantes e a seguir temos o exemplo de ambos:"
   ]
  },
  {
   "cell_type": "code",
   "execution_count": 5,
   "id": "narrative-vehicle",
   "metadata": {},
   "outputs": [],
   "source": [
    "exemplo_lista = [1,2,10,2,15,20]\n",
    "exemplo_lista2 = ['a','b','teste']\n",
    "exemplo_lista3 = [10,'olá',15.3,[1,5,10,21]]\n",
    "\n",
    "exemplo_dic = {'verde':'limão','vermelho':'maçã'}\n",
    "exemplo_dic2 = {0:'wire', 1:'not', 2:'and'}"
   ]
  },
  {
   "cell_type": "markdown",
   "id": "unlike-confirmation",
   "metadata": {},
   "source": [
    "Não cabe aqui passar as definição clássica de lista, o que é interessante dizer é que no python as listas tem seus índices associados a uma array. Ou seja, enquanto em uma lista simples a complexidade para acessar um determinado indice i é O(i), no python vai ser O(1). Cada elemento também pode ser de qualquer outra classe do python, você pode ter listas contendo inteiros e ao mesmo tempo float, stings, outras listas e até mesmo funções.\n",
    "\n",
    "Os elementos em uma lista são numerados de 0 a n-1 sendo n a quantidade de elementos na lista. Para acessar um determinado elemento da lista basta usar o nome dela e colocar o índice do elemento entre chaves. É possível usar índices negativos para acessar elementos à partir do final.\n",
    "\n",
    "É possível selecionar um setor de uma lista usando o \":\".\n",
    "\n"
   ]
  },
  {
   "cell_type": "code",
   "execution_count": 9,
   "id": "competent-worst",
   "metadata": {},
   "outputs": [
    {
     "name": "stdout",
     "output_type": "stream",
     "text": [
      "10\n",
      "teste\n",
      "[1, 5, 10, 21]\n",
      "1\n",
      "t\n",
      "[1, 2, 10]\n",
      "[2, 15, 20]\n",
      "[2, 10, 2, 15]\n"
     ]
    }
   ],
   "source": [
    "#elementos individuais\n",
    "print(exemplo_lista[2])\n",
    "print(exemplo_lista2[2])\n",
    "#indices negativos\n",
    "print(exemplo_lista3[-1])\n",
    "#listas em listas\n",
    "print(exemplo_lista3[-1][0])\n",
    "#a mesma lógica funciona para strings\n",
    "print(exemplo_lista2[2][3])\n",
    "#Selecionando setores\n",
    "print(exemplo_lista[:3]) #do inicio até, porém não incluindo, o elemento de indice 3\n",
    "print(exemplo_lista[3:]) #do elementos de índice 3 até o final\n",
    "print(exemplo_lista[1:-1]) #do primeiro elemento até o penultimo"
   ]
  },
  {
   "cell_type": "markdown",
   "id": "after-problem",
   "metadata": {},
   "source": [
    "É possível substituir elementos em uma lista: basta acessar o elemento em questão e associar um novo valor. Isso vale para trechos também, porém é importante que as dimensões dos valores sejam as mesmas, ou seja, um trecho de 5 elementos tem que ser substituido por outros 5 elementos.\n",
    "\n",
    "Para adicionar novos valores na lista, usualmente se usa o método append. Para remover basta usar o método remove. Em ambos você escreve o nome da lista em questão seguidos por .nome_do_método(). O método remove vai remover a primeira ocorrência do valor na lista, o método append vai inserir o valor no final da lista."
   ]
  },
  {
   "cell_type": "code",
   "execution_count": 1,
   "id": "biological-reproduction",
   "metadata": {},
   "outputs": [
    {
     "name": "stdout",
     "output_type": "stream",
     "text": [
      "[1, 2, 3, 2, 5, 2]\n",
      "[1, 3, 2, 5, 2]\n",
      "[1, 3, 2, 5, 2, 7]\n"
     ]
    }
   ],
   "source": [
    "n_lista = [] #criamos uma lista vazia\n",
    "n_lista.append(1)\n",
    "n_lista.append(2)\n",
    "n_lista.append(3)\n",
    "n_lista.append(2)\n",
    "n_lista.append(5)\n",
    "n_lista.append(2) #inserimos, nessa ordem: 1,2,3,2,5,2\n",
    "print(n_lista)\n",
    "n_lista.remove(2) #vai remover o primeiro 2 de n_lista, ou seja o entre o 1 e 3\n",
    "print(n_lista)\n",
    "n_lista.append(7) #vai inserir um 7 no final da lista, resultando em 1,3,2,5,2,7\n",
    "print(n_lista)"
   ]
  },
  {
   "cell_type": "markdown",
   "id": "italian-sacramento",
   "metadata": {},
   "source": [
    "Os dicionários são estruturas contendo dois itens, as chaves (dict.keys) e os valores (dict.values). As chaves são os \"índices\" dos dicionários e cada chave deve ser única, os valores são os valores associados a cada chave"
   ]
  }
 ],
 "metadata": {
  "kernelspec": {
   "display_name": "Python 3",
   "language": "python",
   "name": "python3"
  },
  "language_info": {
   "codemirror_mode": {
    "name": "ipython",
    "version": 3
   },
   "file_extension": ".py",
   "mimetype": "text/x-python",
   "name": "python",
   "nbconvert_exporter": "python",
   "pygments_lexer": "ipython3",
   "version": "3.7.10"
  }
 },
 "nbformat": 4,
 "nbformat_minor": 5
}
